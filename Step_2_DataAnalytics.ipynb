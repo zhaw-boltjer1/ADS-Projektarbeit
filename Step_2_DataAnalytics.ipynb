{
 "cells": [
  {
   "cell_type": "code",
   "execution_count": 62,
   "metadata": {},
   "outputs": [],
   "source": [
    "import pandas as pd\n",
    "import numpy as np\n",
    "import matplotlib.pyplot as plt\n",
    "import seaborn as sns\n",
    "\n",
    "from mpl_toolkits.mplot3d import Axes3D\n",
    "\n",
    "import time\n"
   ]
  },
  {
   "cell_type": "code",
   "execution_count": 63,
   "metadata": {},
   "outputs": [],
   "source": [
    "apData = pd.read_csv('./Data/ScrappedDataClean.csv')"
   ]
  },
  {
   "cell_type": "code",
   "execution_count": 64,
   "metadata": {},
   "outputs": [
    {
     "data": {
      "text/html": [
       "<div>\n",
       "<style scoped>\n",
       "    .dataframe tbody tr th:only-of-type {\n",
       "        vertical-align: middle;\n",
       "    }\n",
       "\n",
       "    .dataframe tbody tr th {\n",
       "        vertical-align: top;\n",
       "    }\n",
       "\n",
       "    .dataframe thead th {\n",
       "        text-align: right;\n",
       "    }\n",
       "</style>\n",
       "<table border=\"1\" class=\"dataframe\">\n",
       "  <thead>\n",
       "    <tr style=\"text-align: right;\">\n",
       "      <th></th>\n",
       "      <th>Date</th>\n",
       "      <th>Adress</th>\n",
       "      <th>Size</th>\n",
       "      <th>Rooms</th>\n",
       "      <th>Broker</th>\n",
       "      <th>Rent</th>\n",
       "      <th>Price</th>\n",
       "      <th>NearbyPOIs</th>\n",
       "      <th>Latitude</th>\n",
       "      <th>Longitude</th>\n",
       "      <th>PricePerKvm</th>\n",
       "      <th>PricePerRoom</th>\n",
       "    </tr>\n",
       "  </thead>\n",
       "  <tbody>\n",
       "    <tr>\n",
       "      <th>0</th>\n",
       "      <td>20210610.0</td>\n",
       "      <td>Skebokvarnsvägen 366</td>\n",
       "      <td>92.5</td>\n",
       "      <td>4.0</td>\n",
       "      <td>Fastighetsbyrån Farsta/ Högdalen/ Skogås</td>\n",
       "      <td>5953.0</td>\n",
       "      <td>3950000.0</td>\n",
       "      <td>21.0</td>\n",
       "      <td>59.261980</td>\n",
       "      <td>18.040237</td>\n",
       "      <td>42703.0</td>\n",
       "      <td>987500.0</td>\n",
       "    </tr>\n",
       "    <tr>\n",
       "      <th>1</th>\n",
       "      <td>20210610.0</td>\n",
       "      <td>Beckomberga Ängsväg 22</td>\n",
       "      <td>91.0</td>\n",
       "      <td>4.0</td>\n",
       "      <td>Svenska Mäklarhuset Bromma</td>\n",
       "      <td>4730.0</td>\n",
       "      <td>5000000.0</td>\n",
       "      <td>20.0</td>\n",
       "      <td>59.356955</td>\n",
       "      <td>17.899475</td>\n",
       "      <td>54945.0</td>\n",
       "      <td>1250000.0</td>\n",
       "    </tr>\n",
       "    <tr>\n",
       "      <th>2</th>\n",
       "      <td>2021069.0</td>\n",
       "      <td>Brf Grindavik - Kista Gårdsväg</td>\n",
       "      <td>91.1</td>\n",
       "      <td>4.0</td>\n",
       "      <td>Våningen &amp; Villan Stockholm</td>\n",
       "      <td>4803.0</td>\n",
       "      <td>3995000.0</td>\n",
       "      <td>82.0</td>\n",
       "      <td>59.407398</td>\n",
       "      <td>17.943506</td>\n",
       "      <td>43853.0</td>\n",
       "      <td>998750.0</td>\n",
       "    </tr>\n",
       "    <tr>\n",
       "      <th>3</th>\n",
       "      <td>2021069.0</td>\n",
       "      <td>Arbetargatan 23A</td>\n",
       "      <td>92.0</td>\n",
       "      <td>3.0</td>\n",
       "      <td>HusmanHagberg Kungsholmen</td>\n",
       "      <td>4338.0</td>\n",
       "      <td>6650000.0</td>\n",
       "      <td>468.0</td>\n",
       "      <td>59.334550</td>\n",
       "      <td>18.027191</td>\n",
       "      <td>72283.0</td>\n",
       "      <td>2216667.0</td>\n",
       "    </tr>\n",
       "    <tr>\n",
       "      <th>4</th>\n",
       "      <td>2021069.0</td>\n",
       "      <td>Kista Alléväg 9</td>\n",
       "      <td>91.1</td>\n",
       "      <td>4.0</td>\n",
       "      <td>Våningen &amp; Villan Stockholm</td>\n",
       "      <td>4803.0</td>\n",
       "      <td>3995000.0</td>\n",
       "      <td>81.0</td>\n",
       "      <td>59.407664</td>\n",
       "      <td>17.944107</td>\n",
       "      <td>43853.0</td>\n",
       "      <td>998750.0</td>\n",
       "    </tr>\n",
       "    <tr>\n",
       "      <th>...</th>\n",
       "      <td>...</td>\n",
       "      <td>...</td>\n",
       "      <td>...</td>\n",
       "      <td>...</td>\n",
       "      <td>...</td>\n",
       "      <td>...</td>\n",
       "      <td>...</td>\n",
       "      <td>...</td>\n",
       "      <td>...</td>\n",
       "      <td>...</td>\n",
       "      <td>...</td>\n",
       "      <td>...</td>\n",
       "    </tr>\n",
       "    <tr>\n",
       "      <th>3907</th>\n",
       "      <td>20130215.0</td>\n",
       "      <td>Båtholmsbacken 6</td>\n",
       "      <td>100.0</td>\n",
       "      <td>4.0</td>\n",
       "      <td>Mäklarringen Hägersten/Skärholmen/Älvsjö</td>\n",
       "      <td>4361.0</td>\n",
       "      <td>1760000.0</td>\n",
       "      <td>5.0</td>\n",
       "      <td>59.273208</td>\n",
       "      <td>17.882996</td>\n",
       "      <td>17600.0</td>\n",
       "      <td>440000.0</td>\n",
       "    </tr>\n",
       "    <tr>\n",
       "      <th>3908</th>\n",
       "      <td>2013027.0</td>\n",
       "      <td>Petrejusvägen 18</td>\n",
       "      <td>99.0</td>\n",
       "      <td>4.0</td>\n",
       "      <td>Fastighetsbyrån Enskede</td>\n",
       "      <td>5338.0</td>\n",
       "      <td>2925000.0</td>\n",
       "      <td>308.0</td>\n",
       "      <td>59.297758</td>\n",
       "      <td>18.095856</td>\n",
       "      <td>29545.0</td>\n",
       "      <td>731250.0</td>\n",
       "    </tr>\n",
       "    <tr>\n",
       "      <th>3909</th>\n",
       "      <td>20130129.0</td>\n",
       "      <td>Svärdlångsvägen 27</td>\n",
       "      <td>99.5</td>\n",
       "      <td>4.0</td>\n",
       "      <td>Notar</td>\n",
       "      <td>5963.0</td>\n",
       "      <td>3400000.0</td>\n",
       "      <td>195.0</td>\n",
       "      <td>59.300563</td>\n",
       "      <td>18.035431</td>\n",
       "      <td>34171.0</td>\n",
       "      <td>850000.0</td>\n",
       "    </tr>\n",
       "    <tr>\n",
       "      <th>3910</th>\n",
       "      <td>20130126.0</td>\n",
       "      <td>Stapelgatan 5</td>\n",
       "      <td>99.5</td>\n",
       "      <td>4.0</td>\n",
       "      <td>Fastighetsbyrån Stockholm - Hammarby Sjöstad</td>\n",
       "      <td>5020.0</td>\n",
       "      <td>5550000.0</td>\n",
       "      <td>157.0</td>\n",
       "      <td>59.308975</td>\n",
       "      <td>18.104095</td>\n",
       "      <td>55779.0</td>\n",
       "      <td>1387500.0</td>\n",
       "    </tr>\n",
       "    <tr>\n",
       "      <th>3911</th>\n",
       "      <td>20130125.0</td>\n",
       "      <td>Kommendörsgatan 20 B</td>\n",
       "      <td>97.0</td>\n",
       "      <td>4.0</td>\n",
       "      <td>Fastighetsbyrån Stockholm – Östermalm</td>\n",
       "      <td>2990.0</td>\n",
       "      <td>6650000.0</td>\n",
       "      <td>1000.0</td>\n",
       "      <td>59.338402</td>\n",
       "      <td>18.080750</td>\n",
       "      <td>68557.0</td>\n",
       "      <td>1662500.0</td>\n",
       "    </tr>\n",
       "  </tbody>\n",
       "</table>\n",
       "<p>3912 rows × 12 columns</p>\n",
       "</div>"
      ],
      "text/plain": [
       "            Date                          Adress   Size  Rooms  \\\n",
       "0     20210610.0            Skebokvarnsvägen 366   92.5    4.0   \n",
       "1     20210610.0          Beckomberga Ängsväg 22   91.0    4.0   \n",
       "2      2021069.0  Brf Grindavik - Kista Gårdsväg   91.1    4.0   \n",
       "3      2021069.0                Arbetargatan 23A   92.0    3.0   \n",
       "4      2021069.0                 Kista Alléväg 9   91.1    4.0   \n",
       "...          ...                             ...    ...    ...   \n",
       "3907  20130215.0                Båtholmsbacken 6  100.0    4.0   \n",
       "3908   2013027.0                Petrejusvägen 18   99.0    4.0   \n",
       "3909  20130129.0              Svärdlångsvägen 27   99.5    4.0   \n",
       "3910  20130126.0                   Stapelgatan 5   99.5    4.0   \n",
       "3911  20130125.0            Kommendörsgatan 20 B   97.0    4.0   \n",
       "\n",
       "                                            Broker    Rent      Price  \\\n",
       "0         Fastighetsbyrån Farsta/ Högdalen/ Skogås  5953.0  3950000.0   \n",
       "1                       Svenska Mäklarhuset Bromma  4730.0  5000000.0   \n",
       "2                      Våningen & Villan Stockholm  4803.0  3995000.0   \n",
       "3                        HusmanHagberg Kungsholmen  4338.0  6650000.0   \n",
       "4                      Våningen & Villan Stockholm  4803.0  3995000.0   \n",
       "...                                            ...     ...        ...   \n",
       "3907      Mäklarringen Hägersten/Skärholmen/Älvsjö  4361.0  1760000.0   \n",
       "3908                       Fastighetsbyrån Enskede  5338.0  2925000.0   \n",
       "3909                                         Notar  5963.0  3400000.0   \n",
       "3910  Fastighetsbyrån Stockholm - Hammarby Sjöstad  5020.0  5550000.0   \n",
       "3911         Fastighetsbyrån Stockholm – Östermalm  2990.0  6650000.0   \n",
       "\n",
       "      NearbyPOIs   Latitude  Longitude  PricePerKvm  PricePerRoom  \n",
       "0           21.0  59.261980  18.040237      42703.0      987500.0  \n",
       "1           20.0  59.356955  17.899475      54945.0     1250000.0  \n",
       "2           82.0  59.407398  17.943506      43853.0      998750.0  \n",
       "3          468.0  59.334550  18.027191      72283.0     2216667.0  \n",
       "4           81.0  59.407664  17.944107      43853.0      998750.0  \n",
       "...          ...        ...        ...          ...           ...  \n",
       "3907         5.0  59.273208  17.882996      17600.0      440000.0  \n",
       "3908       308.0  59.297758  18.095856      29545.0      731250.0  \n",
       "3909       195.0  59.300563  18.035431      34171.0      850000.0  \n",
       "3910       157.0  59.308975  18.104095      55779.0     1387500.0  \n",
       "3911      1000.0  59.338402  18.080750      68557.0     1662500.0  \n",
       "\n",
       "[3912 rows x 12 columns]"
      ]
     },
     "execution_count": 64,
     "metadata": {},
     "output_type": "execute_result"
    }
   ],
   "source": [
    "apData"
   ]
  },
  {
   "cell_type": "code",
   "execution_count": 65,
   "metadata": {},
   "outputs": [
    {
     "name": "stdout",
     "output_type": "stream",
     "text": [
      "(3912, 12)\n"
     ]
    }
   ],
   "source": [
    "print(apData.shape)"
   ]
  },
  {
   "cell_type": "code",
   "execution_count": 66,
   "metadata": {},
   "outputs": [],
   "source": [
    "def plot_corr(apData, size=11):\n",
    "    \"\"\"\n",
    "    Function plots a graphical correlation matrix for each pair of columns in the dataframe.\n",
    "\n",
    "    Input:\n",
    "        df: pandas DataFrame\n",
    "        size: vertical and horizontal size of the plot\n",
    "\n",
    "    Displays:\n",
    "        matrix of correlation between columns.  Blue-cyan-yellow-red-darkred => less to more correlated\n",
    "                                                0 ------------------>  1\n",
    "                                                Expect a darkred line running from top left to bottom right\n",
    "    \"\"\"\n",
    "\n",
    "    corr = apData.corr()    # data frame correlation function\n",
    "    fig, ax = plt.subplots(figsize=(size, size))\n",
    "    ax.matshow(corr)   # color code the rectangles by correlation value\n",
    "    plt.xticks(range(len(corr.columns)), corr.columns)  # draw x tick marks\n",
    "    plt.yticks(range(len(corr.columns)), corr.columns)  # draw y tick marks\n"
   ]
  },
  {
   "cell_type": "code",
   "execution_count": 67,
   "metadata": {},
   "outputs": [
    {
     "data": {
      "text/html": [
       "<div>\n",
       "<style scoped>\n",
       "    .dataframe tbody tr th:only-of-type {\n",
       "        vertical-align: middle;\n",
       "    }\n",
       "\n",
       "    .dataframe tbody tr th {\n",
       "        vertical-align: top;\n",
       "    }\n",
       "\n",
       "    .dataframe thead th {\n",
       "        text-align: right;\n",
       "    }\n",
       "</style>\n",
       "<table border=\"1\" class=\"dataframe\">\n",
       "  <thead>\n",
       "    <tr style=\"text-align: right;\">\n",
       "      <th></th>\n",
       "      <th>Date</th>\n",
       "      <th>Size</th>\n",
       "      <th>Rooms</th>\n",
       "      <th>Rent</th>\n",
       "      <th>Price</th>\n",
       "      <th>NearbyPOIs</th>\n",
       "      <th>Latitude</th>\n",
       "      <th>Longitude</th>\n",
       "      <th>PricePerKvm</th>\n",
       "      <th>PricePerRoom</th>\n",
       "    </tr>\n",
       "  </thead>\n",
       "  <tbody>\n",
       "    <tr>\n",
       "      <th>Date</th>\n",
       "      <td>1.000000</td>\n",
       "      <td>-0.002744</td>\n",
       "      <td>0.025201</td>\n",
       "      <td>-0.001272</td>\n",
       "      <td>0.033815</td>\n",
       "      <td>-0.010198</td>\n",
       "      <td>-0.005351</td>\n",
       "      <td>0.014972</td>\n",
       "      <td>0.033296</td>\n",
       "      <td>0.025685</td>\n",
       "    </tr>\n",
       "    <tr>\n",
       "      <th>Size</th>\n",
       "      <td>-0.002744</td>\n",
       "      <td>1.000000</td>\n",
       "      <td>0.114187</td>\n",
       "      <td>0.126162</td>\n",
       "      <td>0.005315</td>\n",
       "      <td>-0.030543</td>\n",
       "      <td>0.045373</td>\n",
       "      <td>-0.030315</td>\n",
       "      <td>-0.086372</td>\n",
       "      <td>-0.019714</td>\n",
       "    </tr>\n",
       "    <tr>\n",
       "      <th>Rooms</th>\n",
       "      <td>0.025201</td>\n",
       "      <td>0.114187</td>\n",
       "      <td>1.000000</td>\n",
       "      <td>0.110599</td>\n",
       "      <td>-0.144491</td>\n",
       "      <td>-0.147577</td>\n",
       "      <td>0.008300</td>\n",
       "      <td>-0.069756</td>\n",
       "      <td>-0.156190</td>\n",
       "      <td>-0.366482</td>\n",
       "    </tr>\n",
       "    <tr>\n",
       "      <th>Rent</th>\n",
       "      <td>-0.001272</td>\n",
       "      <td>0.126162</td>\n",
       "      <td>0.110599</td>\n",
       "      <td>1.000000</td>\n",
       "      <td>-0.345342</td>\n",
       "      <td>-0.274937</td>\n",
       "      <td>0.012161</td>\n",
       "      <td>-0.101018</td>\n",
       "      <td>-0.356935</td>\n",
       "      <td>-0.351578</td>\n",
       "    </tr>\n",
       "    <tr>\n",
       "      <th>Price</th>\n",
       "      <td>0.033815</td>\n",
       "      <td>0.005315</td>\n",
       "      <td>-0.144491</td>\n",
       "      <td>-0.345342</td>\n",
       "      <td>1.000000</td>\n",
       "      <td>0.457947</td>\n",
       "      <td>-0.037035</td>\n",
       "      <td>0.395393</td>\n",
       "      <td>0.995308</td>\n",
       "      <td>0.972259</td>\n",
       "    </tr>\n",
       "    <tr>\n",
       "      <th>NearbyPOIs</th>\n",
       "      <td>-0.010198</td>\n",
       "      <td>-0.030543</td>\n",
       "      <td>-0.147577</td>\n",
       "      <td>-0.274937</td>\n",
       "      <td>0.457947</td>\n",
       "      <td>1.000000</td>\n",
       "      <td>0.029300</td>\n",
       "      <td>0.336056</td>\n",
       "      <td>0.459913</td>\n",
       "      <td>0.467907</td>\n",
       "    </tr>\n",
       "    <tr>\n",
       "      <th>Latitude</th>\n",
       "      <td>-0.005351</td>\n",
       "      <td>0.045373</td>\n",
       "      <td>0.008300</td>\n",
       "      <td>0.012161</td>\n",
       "      <td>-0.037035</td>\n",
       "      <td>0.029300</td>\n",
       "      <td>1.000000</td>\n",
       "      <td>-0.629623</td>\n",
       "      <td>-0.040040</td>\n",
       "      <td>-0.034226</td>\n",
       "    </tr>\n",
       "    <tr>\n",
       "      <th>Longitude</th>\n",
       "      <td>0.014972</td>\n",
       "      <td>-0.030315</td>\n",
       "      <td>-0.069756</td>\n",
       "      <td>-0.101018</td>\n",
       "      <td>0.395393</td>\n",
       "      <td>0.336056</td>\n",
       "      <td>-0.629623</td>\n",
       "      <td>1.000000</td>\n",
       "      <td>0.395648</td>\n",
       "      <td>0.386594</td>\n",
       "    </tr>\n",
       "    <tr>\n",
       "      <th>PricePerKvm</th>\n",
       "      <td>0.033296</td>\n",
       "      <td>-0.086372</td>\n",
       "      <td>-0.156190</td>\n",
       "      <td>-0.356935</td>\n",
       "      <td>0.995308</td>\n",
       "      <td>0.459913</td>\n",
       "      <td>-0.040040</td>\n",
       "      <td>0.395648</td>\n",
       "      <td>1.000000</td>\n",
       "      <td>0.970520</td>\n",
       "    </tr>\n",
       "    <tr>\n",
       "      <th>PricePerRoom</th>\n",
       "      <td>0.025685</td>\n",
       "      <td>-0.019714</td>\n",
       "      <td>-0.366482</td>\n",
       "      <td>-0.351578</td>\n",
       "      <td>0.972259</td>\n",
       "      <td>0.467907</td>\n",
       "      <td>-0.034226</td>\n",
       "      <td>0.386594</td>\n",
       "      <td>0.970520</td>\n",
       "      <td>1.000000</td>\n",
       "    </tr>\n",
       "  </tbody>\n",
       "</table>\n",
       "</div>"
      ],
      "text/plain": [
       "                  Date      Size     Rooms      Rent     Price  NearbyPOIs  \\\n",
       "Date          1.000000 -0.002744  0.025201 -0.001272  0.033815   -0.010198   \n",
       "Size         -0.002744  1.000000  0.114187  0.126162  0.005315   -0.030543   \n",
       "Rooms         0.025201  0.114187  1.000000  0.110599 -0.144491   -0.147577   \n",
       "Rent         -0.001272  0.126162  0.110599  1.000000 -0.345342   -0.274937   \n",
       "Price         0.033815  0.005315 -0.144491 -0.345342  1.000000    0.457947   \n",
       "NearbyPOIs   -0.010198 -0.030543 -0.147577 -0.274937  0.457947    1.000000   \n",
       "Latitude     -0.005351  0.045373  0.008300  0.012161 -0.037035    0.029300   \n",
       "Longitude     0.014972 -0.030315 -0.069756 -0.101018  0.395393    0.336056   \n",
       "PricePerKvm   0.033296 -0.086372 -0.156190 -0.356935  0.995308    0.459913   \n",
       "PricePerRoom  0.025685 -0.019714 -0.366482 -0.351578  0.972259    0.467907   \n",
       "\n",
       "              Latitude  Longitude  PricePerKvm  PricePerRoom  \n",
       "Date         -0.005351   0.014972     0.033296      0.025685  \n",
       "Size          0.045373  -0.030315    -0.086372     -0.019714  \n",
       "Rooms         0.008300  -0.069756    -0.156190     -0.366482  \n",
       "Rent          0.012161  -0.101018    -0.356935     -0.351578  \n",
       "Price        -0.037035   0.395393     0.995308      0.972259  \n",
       "NearbyPOIs    0.029300   0.336056     0.459913      0.467907  \n",
       "Latitude      1.000000  -0.629623    -0.040040     -0.034226  \n",
       "Longitude    -0.629623   1.000000     0.395648      0.386594  \n",
       "PricePerKvm  -0.040040   0.395648     1.000000      0.970520  \n",
       "PricePerRoom -0.034226   0.386594     0.970520      1.000000  "
      ]
     },
     "execution_count": 67,
     "metadata": {},
     "output_type": "execute_result"
    },
    {
     "data": {
      "image/png": "[encoded data removed]",
      "text/plain": [
       "<Figure size 792x792 with 1 Axes>"
      ]
     },
     "metadata": {
      "needs_background": "light"
     },
     "output_type": "display_data"
    }
   ],
   "source": [
    "plot_corr(apData)\n",
    "apData.corr()"
   ]
  },
  {
   "cell_type": "code",
   "execution_count": 68,
   "metadata": {},
   "outputs": [
    {
     "data": {
      "text/plain": [
       "<AxesSubplot:xlabel='Price'>"
      ]
     },
     "execution_count": 68,
     "metadata": {},
     "output_type": "execute_result"
    },
    {
     "data": {
      "image/png": "[encoded data removed]",
      "text/plain": [
       "<Figure size 1440x144 with 1 Axes>"
      ]
     },
     "metadata": {
      "needs_background": "light"
     },
     "output_type": "display_data"
    }
   ],
   "source": [
    "plt.figure(figsize=(20,2))\n",
    "plt.ticklabel_format(style='plain')\n",
    "sns.boxplot(x=apData['Price'], color=\"green\")"
   ]
  },
  {
   "cell_type": "code",
   "execution_count": 69,
   "metadata": {},
   "outputs": [
    {
     "data": {
      "text/plain": [
       "<AxesSubplot:xlabel='NearbyPOIs'>"
      ]
     },
     "execution_count": 69,
     "metadata": {},
     "output_type": "execute_result"
    },
    {
     "data": {
      "image/png": "[encoded data removed]",
      "text/plain": [
       "<Figure size 1440x144 with 1 Axes>"
      ]
     },
     "metadata": {
      "needs_background": "light"
     },
     "output_type": "display_data"
    }
   ],
   "source": [
    "plt.figure(figsize=(20,2))\n",
    "plt.ticklabel_format(style='plain')\n",
    "sns.boxplot(x=apData['NearbyPOIs'], color=\"green\")"
   ]
  },
  {
   "cell_type": "code",
   "execution_count": 70,
   "metadata": {},
   "outputs": [
    {
     "data": {
      "text/plain": [
       "<AxesSubplot:xlabel='Rent'>"
      ]
     },
     "execution_count": 70,
     "metadata": {},
     "output_type": "execute_result"
    },
    {
     "data": {
      "image/png": "[encoded data removed]",
      "text/plain": [
       "<Figure size 1440x144 with 1 Axes>"
      ]
     },
     "metadata": {
      "needs_background": "light"
     },
     "output_type": "display_data"
    }
   ],
   "source": [
    "#Rent per Week\n",
    "plt.figure(figsize=(20,2))\n",
    "plt.ticklabel_format(style='plain')\n",
    "sns.boxplot(x=apData['Rent'], color=\"green\")"
   ]
  },
  {
   "cell_type": "code",
   "execution_count": 71,
   "metadata": {},
   "outputs": [
    {
     "data": {
      "text/plain": [
       "<AxesSubplot:xlabel='Latitude'>"
      ]
     },
     "execution_count": 71,
     "metadata": {},
     "output_type": "execute_result"
    },
    {
     "data": {
      "image/png": "[encoded data removed]",
      "text/plain": [
       "<Figure size 1440x144 with 1 Axes>"
      ]
     },
     "metadata": {
      "needs_background": "light"
     },
     "output_type": "display_data"
    }
   ],
   "source": [
    "plt.figure(figsize=(20,2))\n",
    "plt.ticklabel_format(style='plain')\n",
    "sns.boxplot(x=apData['Latitude'], color=\"green\")"
   ]
  },
  {
   "cell_type": "code",
   "execution_count": 72,
   "metadata": {},
   "outputs": [
    {
     "data": {
      "text/plain": [
       "<AxesSubplot:xlabel='Longitude'>"
      ]
     },
     "execution_count": 72,
     "metadata": {},
     "output_type": "execute_result"
    },
    {
     "data": {
      "image/png": "[encoded data removed]",
      "text/plain": [
       "<Figure size 1440x144 with 1 Axes>"
      ]
     },
     "metadata": {
      "needs_background": "light"
     },
     "output_type": "display_data"
    }
   ],
   "source": [
    "plt.figure(figsize=(20,2))\n",
    "plt.ticklabel_format(style='plain')\n",
    "sns.boxplot(x=apData['Longitude'], color=\"green\")"
   ]
  },
  {
   "cell_type": "code",
   "execution_count": 73,
   "metadata": {},
   "outputs": [
    {
     "data": {
      "text/plain": [
       "<AxesSubplot:xlabel='PricePerKvm'>"
      ]
     },
     "execution_count": 73,
     "metadata": {},
     "output_type": "execute_result"
    },
    {
     "data": {
      "image/png": "[encoded data removed]",
      "text/plain": [
       "<Figure size 1440x144 with 1 Axes>"
      ]
     },
     "metadata": {
      "needs_background": "light"
     },
     "output_type": "display_data"
    }
   ],
   "source": [
    "plt.figure(figsize=(20,2))\n",
    "plt.ticklabel_format(style='plain')\n",
    "sns.boxplot(x=apData['PricePerKvm'], color=\"green\")"
   ]
  },
  {
   "cell_type": "code",
   "execution_count": 74,
   "metadata": {},
   "outputs": [
    {
     "data": {
      "text/plain": [
       "<AxesSubplot:xlabel='Size'>"
      ]
     },
     "execution_count": 74,
     "metadata": {},
     "output_type": "execute_result"
    },
    {
     "data": {
      "image/png": "[encoded data removed]",
      "text/plain": [
       "<Figure size 1440x144 with 1 Axes>"
      ]
     },
     "metadata": {
      "needs_background": "light"
     },
     "output_type": "display_data"
    }
   ],
   "source": [
    "plt.figure(figsize=(20,2))\n",
    "plt.ticklabel_format(style='plain')\n",
    "sns.boxplot(x=apData['Size'], color=\"green\")"
   ]
  },
  {
   "cell_type": "code",
   "execution_count": 75,
   "metadata": {},
   "outputs": [
    {
     "data": {
      "image/png": "[encoded data removed]",
      "text/plain": [
       "<Figure size 720x432 with 1 Axes>"
      ]
     },
     "metadata": {
      "needs_background": "light"
     },
     "output_type": "display_data"
    }
   ],
   "source": [
    "fig, ax = plt.subplots(figsize=(10,6))\n",
    "plt.ticklabel_format(style='plain')\n",
    "ax.scatter(x=apData['PricePerKvm'],y=apData['NearbyPOIs'], color=\"green\", alpha=1.0)\n",
    "ax.set_xlabel('PricePerKvm')\n",
    "ax.set_ylabel('NearbyPOIs')\n",
    "plt.show()"
   ]
  },
  {
   "cell_type": "code",
   "execution_count": 76,
   "metadata": {},
   "outputs": [
    {
     "name": "stderr",
     "output_type": "stream",
     "text": [
      "C:\\Users\\bolt.jeremy\\Anaconda3\\lib\\site-packages\\seaborn\\distributions.py:2551: FutureWarning: `distplot` is a deprecated function and will be removed in a future version. Please adapt your code to use either `displot` (a figure-level function with similar flexibility) or `histplot` (an axes-level function for histograms).\n",
      "  warnings.warn(msg, FutureWarning)\n"
     ]
    },
    {
     "data": {
      "image/png": "[encoded data removed]",
      "text/plain": [
       "<Figure size 720x360 with 1 Axes>"
      ]
     },
     "metadata": {
      "needs_background": "light"
     },
     "output_type": "display_data"
    }
   ],
   "source": [
    "import seaborn as sns\n",
    "\n",
    "plt.figure(figsize=(10,5))\n",
    "sns.distplot(apData['PricePerKvm'], \n",
    "             hist=True, \n",
    "             kde=True, \n",
    "             bins=20, \n",
    "             color = 'green',\n",
    "             hist_kws={'edgecolor':'black'},\n",
    "             kde_kws={'linewidth': 2},\n",
    "            )\n",
    "plt.title('Density plot of PricePerKvm', fontsize=16, pad=10)\n",
    "plt.xlabel('PricePerKvm', fontsize=14, labelpad=10)\n",
    "plt.ylabel('Density', fontsize=14, labelpad=10)\n",
    "plt.grid(True)\n",
    "plt.show()"
   ]
  },
  {
   "cell_type": "code",
   "execution_count": 77,
   "metadata": {},
   "outputs": [
    {
     "data": {
      "text/html": [
       "<div>\n",
       "<style scoped>\n",
       "    .dataframe tbody tr th:only-of-type {\n",
       "        vertical-align: middle;\n",
       "    }\n",
       "\n",
       "    .dataframe tbody tr th {\n",
       "        vertical-align: top;\n",
       "    }\n",
       "\n",
       "    .dataframe thead th {\n",
       "        text-align: right;\n",
       "    }\n",
       "</style>\n",
       "<table border=\"1\" class=\"dataframe\">\n",
       "  <thead>\n",
       "    <tr style=\"text-align: right;\">\n",
       "      <th></th>\n",
       "      <th>Date</th>\n",
       "      <th>Size</th>\n",
       "      <th>Rooms</th>\n",
       "      <th>Rent</th>\n",
       "      <th>Price</th>\n",
       "      <th>NearbyPOIs</th>\n",
       "      <th>Latitude</th>\n",
       "      <th>Longitude</th>\n",
       "      <th>PricePerKvm</th>\n",
       "      <th>PricePerRoom</th>\n",
       "    </tr>\n",
       "  </thead>\n",
       "  <tbody>\n",
       "    <tr>\n",
       "      <th>count</th>\n",
       "      <td>3.912000e+03</td>\n",
       "      <td>3912.000000</td>\n",
       "      <td>3912.000000</td>\n",
       "      <td>3912.000000</td>\n",
       "      <td>3.912000e+03</td>\n",
       "      <td>3912.000000</td>\n",
       "      <td>3912.000000</td>\n",
       "      <td>3912.000000</td>\n",
       "      <td>3912.000000</td>\n",
       "      <td>3.912000e+03</td>\n",
       "    </tr>\n",
       "    <tr>\n",
       "      <th>mean</th>\n",
       "      <td>1.512792e+07</td>\n",
       "      <td>94.796472</td>\n",
       "      <td>3.957566</td>\n",
       "      <td>5104.874489</td>\n",
       "      <td>4.701479e+06</td>\n",
       "      <td>167.335890</td>\n",
       "      <td>59.317368</td>\n",
       "      <td>18.008050</td>\n",
       "      <td>49639.237986</td>\n",
       "      <td>1.195766e+06</td>\n",
       "    </tr>\n",
       "    <tr>\n",
       "      <th>std</th>\n",
       "      <td>8.133638e+06</td>\n",
       "      <td>2.914669</td>\n",
       "      <td>0.201602</td>\n",
       "      <td>783.666825</td>\n",
       "      <td>1.553765e+06</td>\n",
       "      <td>272.932101</td>\n",
       "      <td>0.041035</td>\n",
       "      <td>0.073127</td>\n",
       "      <td>16467.480900</td>\n",
       "      <td>4.175550e+05</td>\n",
       "    </tr>\n",
       "    <tr>\n",
       "      <th>min</th>\n",
       "      <td>2.013027e+06</td>\n",
       "      <td>90.000000</td>\n",
       "      <td>3.000000</td>\n",
       "      <td>1974.000000</td>\n",
       "      <td>1.150000e+06</td>\n",
       "      <td>4.000000</td>\n",
       "      <td>59.232487</td>\n",
       "      <td>17.803345</td>\n",
       "      <td>11979.000000</td>\n",
       "      <td>2.875000e+05</td>\n",
       "    </tr>\n",
       "    <tr>\n",
       "      <th>25%</th>\n",
       "      <td>2.020108e+06</td>\n",
       "      <td>92.000000</td>\n",
       "      <td>4.000000</td>\n",
       "      <td>4653.500000</td>\n",
       "      <td>3.398750e+06</td>\n",
       "      <td>28.000000</td>\n",
       "      <td>59.287940</td>\n",
       "      <td>17.950974</td>\n",
       "      <td>35326.750000</td>\n",
       "      <td>8.500000e+05</td>\n",
       "    </tr>\n",
       "    <tr>\n",
       "      <th>50%</th>\n",
       "      <td>2.016023e+07</td>\n",
       "      <td>95.000000</td>\n",
       "      <td>4.000000</td>\n",
       "      <td>5138.500000</td>\n",
       "      <td>4.700000e+06</td>\n",
       "      <td>66.000000</td>\n",
       "      <td>59.307223</td>\n",
       "      <td>18.014832</td>\n",
       "      <td>49521.500000</td>\n",
       "      <td>1.180625e+06</td>\n",
       "    </tr>\n",
       "    <tr>\n",
       "      <th>75%</th>\n",
       "      <td>2.018111e+07</td>\n",
       "      <td>97.000000</td>\n",
       "      <td>4.000000</td>\n",
       "      <td>5583.000000</td>\n",
       "      <td>6.000000e+06</td>\n",
       "      <td>172.000000</td>\n",
       "      <td>59.353456</td>\n",
       "      <td>18.065815</td>\n",
       "      <td>63407.500000</td>\n",
       "      <td>1.525000e+06</td>\n",
       "    </tr>\n",
       "    <tr>\n",
       "      <th>max</th>\n",
       "      <td>2.021061e+07</td>\n",
       "      <td>100.000000</td>\n",
       "      <td>4.000000</td>\n",
       "      <td>7966.000000</td>\n",
       "      <td>7.495000e+06</td>\n",
       "      <td>1900.000000</td>\n",
       "      <td>59.417447</td>\n",
       "      <td>18.251724</td>\n",
       "      <td>83222.000000</td>\n",
       "      <td>2.498333e+06</td>\n",
       "    </tr>\n",
       "  </tbody>\n",
       "</table>\n",
       "</div>"
      ],
      "text/plain": [
       "               Date         Size        Rooms         Rent         Price  \\\n",
       "count  3.912000e+03  3912.000000  3912.000000  3912.000000  3.912000e+03   \n",
       "mean   1.512792e+07    94.796472     3.957566  5104.874489  4.701479e+06   \n",
       "std    8.133638e+06     2.914669     0.201602   783.666825  1.553765e+06   \n",
       "min    2.013027e+06    90.000000     3.000000  1974.000000  1.150000e+06   \n",
       "25%    2.020108e+06    92.000000     4.000000  4653.500000  3.398750e+06   \n",
       "50%    2.016023e+07    95.000000     4.000000  5138.500000  4.700000e+06   \n",
       "75%    2.018111e+07    97.000000     4.000000  5583.000000  6.000000e+06   \n",
       "max    2.021061e+07   100.000000     4.000000  7966.000000  7.495000e+06   \n",
       "\n",
       "        NearbyPOIs     Latitude    Longitude   PricePerKvm  PricePerRoom  \n",
       "count  3912.000000  3912.000000  3912.000000   3912.000000  3.912000e+03  \n",
       "mean    167.335890    59.317368    18.008050  49639.237986  1.195766e+06  \n",
       "std     272.932101     0.041035     0.073127  16467.480900  4.175550e+05  \n",
       "min       4.000000    59.232487    17.803345  11979.000000  2.875000e+05  \n",
       "25%      28.000000    59.287940    17.950974  35326.750000  8.500000e+05  \n",
       "50%      66.000000    59.307223    18.014832  49521.500000  1.180625e+06  \n",
       "75%     172.000000    59.353456    18.065815  63407.500000  1.525000e+06  \n",
       "max    1900.000000    59.417447    18.251724  83222.000000  2.498333e+06  "
      ]
     },
     "execution_count": 77,
     "metadata": {},
     "output_type": "execute_result"
    }
   ],
   "source": [
    "apData.describe()"
   ]
  },
  {
   "cell_type": "markdown",
   "metadata": {},
   "source": [
    "##Median Price for Stockholm (90-100 KVM): 4.70 million SEK "
   ]
  },
  {
   "cell_type": "markdown",
   "metadata": {},
   "source": [
    "##Median Rent for Stockholm (90-100 KVM): 5100 SEK / Per Week"
   ]
  },
  {
   "cell_type": "code",
   "execution_count": 78,
   "metadata": {},
   "outputs": [
    {
     "data": {
      "image/png": "[encoded data removed]",
      "text/plain": [
       "<Figure size 432x288 with 1 Axes>"
      ]
     },
     "metadata": {
      "needs_background": "light"
     },
     "output_type": "display_data"
    }
   ],
   "source": [
    "fig = plt.figure()\n",
    "ax = fig.gca(projection='3d')\n",
    "ax.plot_trisurf(apData['Longitude'], apData['Latitude'], apData['PricePerKvm'],\n",
    "                    cmap=plt.cm.viridis, linewidth=1)\n",
    "plt.show()\n",
    "\n",
    "surf = ax.plot_trisurf(apData['Longitude'], apData['Latitude'], apData['PricePerKvm'],\n",
    "                           cmap=plt.cm.viridis, linewidth=1)\n",
    "fig.colorbar(surf, shrink=0.5, aspect=5)\n",
    "plt.show()\n",
    "\n",
    "# Rotate view\n",
    "ax.view_init(30, 45)\n",
    "\n",
    "ax.plot_trisurf(apData['Longitude'], apData['Latitude'], apData['PricePerKvm'],\n",
    "                cmap=plt.cm.jet, alpha=0.2, linewidth=1, antialiased=True)\n",
    "plt.show()"
   ]
  },
  {
   "cell_type": "code",
   "execution_count": null,
   "metadata": {},
   "outputs": [],
   "source": []
  }
 ],
 "metadata": {
  "kernelspec": {
   "display_name": "Python 3",
   "language": "python",
   "name": "python3"
  },
  "language_info": {
   "codemirror_mode": {
    "name": "ipython",
    "version": 3
   },
   "file_extension": ".py",
   "mimetype": "text/x-python",
   "name": "python",
   "nbconvert_exporter": "python",
   "pygments_lexer": "ipython3",
   "version": "3.8.5"
  }
 },
 "nbformat": 4,
 "nbformat_minor": 4
}
