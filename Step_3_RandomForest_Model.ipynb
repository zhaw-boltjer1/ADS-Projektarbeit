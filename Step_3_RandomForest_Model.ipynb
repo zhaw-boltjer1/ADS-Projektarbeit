{
 "cells": [
  {
   "cell_type": "code",
   "execution_count": 379,
   "metadata": {},
   "outputs": [],
   "source": [
    "import pandas as pd\n",
    "import numpy as np\n",
    "import matplotlib.pyplot as plt\n",
    "import seaborn as sns\n",
    "\n",
    "#ML Libraries\n",
    "from Model import getPredictions\n",
    "from Accuracy import printMeanAbsoluteError, printMeanAbsolutePercentageError\n",
    "from sklearn.model_selection import train_test_split\n",
    "from sklearn.tree import DecisionTreeRegressor\n",
    "from sklearn.ensemble import RandomForestRegressor\n",
    "from xgboost import XGBRegressor\n",
    "from sklearn.metrics import accuracy_score\n",
    "from sklearn.metrics import mean_absolute_error\n",
    "from sklearn.tree import DecisionTreeRegressor\n",
    "from ModelEvaluation import tryParameters\n",
    "from VisualizeData import featureImportance, featuresCorrelation\n",
    "from sklearn.model_selection import cross_val_score\n",
    "\n",
    "#WebScarping / API / Visualization\n",
    "from VisualizeData import showBarChart, showHeatMap, showScatterPlotLine, plotPredictionsTowardsActual, plotThreeDimensionsGraph, plot3DWireframe\n",
    "from mpl_toolkits.mplot3d import Axes3D\n",
    "\n",
    "import time"
   ]
  },
  {
   "cell_type": "code",
   "execution_count": 380,
   "metadata": {},
   "outputs": [
    {
     "name": "stdout",
     "output_type": "stream",
     "text": [
      "<class 'pandas.core.frame.DataFrame'>\n",
      "RangeIndex: 3912 entries, 0 to 3911\n",
      "Data columns (total 12 columns):\n",
      " #   Column        Non-Null Count  Dtype  \n",
      "---  ------        --------------  -----  \n",
      " 0   Date          3912 non-null   float64\n",
      " 1   Adress        3912 non-null   object \n",
      " 2   Size          3912 non-null   float64\n",
      " 3   Rooms         3912 non-null   float64\n",
      " 4   Broker        3912 non-null   object \n",
      " 5   Rent          3912 non-null   float64\n",
      " 6   Price         3912 non-null   float64\n",
      " 7   NearbyPOIs    3912 non-null   float64\n",
      " 8   Latitude      3912 non-null   float64\n",
      " 9   Longitude     3912 non-null   float64\n",
      " 10  PricePerKvm   3912 non-null   float64\n",
      " 11  PricePerRoom  3912 non-null   float64\n",
      "dtypes: float64(10), object(2)\n",
      "memory usage: 366.9+ KB\n"
     ]
    }
   ],
   "source": [
    "apData = pd.read_csv('./Data/ScrappedDataClean.csv')\n",
    "apData.info()\n",
    "# Step 3 - Get a trained model based on dataframe, Features = 6\n",
    "#featuresToTrainOn = ['Size', 'NearbyPOIs', 'Latitude', 'Longitude','Rooms','Rent','Date']\n",
    "featuresToTrainOn = ['Size', 'NearbyPOIs', 'Latitude', 'Longitude','Rooms']\n",
    "target = 'Price'"
   ]
  },
  {
   "cell_type": "code",
   "execution_count": 381,
   "metadata": {},
   "outputs": [],
   "source": [
    "#X = apData[featuresToTrainOn].values     # predictor feature columns (4 X m)\n",
    "#y = apData['Price'].values # predicted class (1=true, 0=false) column (1 X m)\n",
    "#split_test_size = 0.20\n",
    "# X\n",
    "target = apData[target]\n",
    "#y\n",
    "apData = apData[featuresToTrainOn]"
   ]
  },
  {
   "cell_type": "code",
   "execution_count": 382,
   "metadata": {},
   "outputs": [],
   "source": [
    "#X_train, X_test, y_train, y_test = train_test_split(X, y, test_size=split_test_size, random_state=42) \n",
    "# test_size = 0.2 is 20%, 42 is the answer to everything for the random split.\n",
    "trainFeatures, valFeatures, trainPredictionTarget, valPredictionTarget = train_test_split(apData, target, random_state=0)"
   ]
  },
  {
   "cell_type": "code",
   "execution_count": 383,
   "metadata": {},
   "outputs": [
    {
     "name": "stdout",
     "output_type": "stream",
     "text": [
      "2934\n",
      "978\n",
      "2934\n",
      "978\n"
     ]
    }
   ],
   "source": [
    "print(len(trainFeatures))\n",
    "print(len(valFeatures))\n",
    "print(len(trainPredictionTarget))\n",
    "print(len(valPredictionTarget))"
   ]
  },
  {
   "cell_type": "code",
   "execution_count": 384,
   "metadata": {},
   "outputs": [
    {
     "name": "stdout",
     "output_type": "stream",
     "text": [
      "75.00% in training set\n",
      "25.00% in test set\n"
     ]
    }
   ],
   "source": [
    "#test splitting 80/20\n",
    "print(\"{0:0.2f}% in training set\".format((len(trainFeatures)/len(apData.index)) * 100))\n",
    "print(\"{0:0.2f}% in test set\".format((len(valFeatures)/len(apData.index)) * 100))"
   ]
  },
  {
   "cell_type": "code",
   "execution_count": 385,
   "metadata": {},
   "outputs": [
    {
     "name": "stdout",
     "output_type": "stream",
     "text": [
      "Max leaf nodes: 5  \t\t Mean Absolute Error:  762684\n",
      "Max leaf nodes: 50  \t\t Mean Absolute Error:  514349\n",
      "Max leaf nodes: 100  \t\t Mean Absolute Error:  489473\n",
      "Max leaf nodes: 200  \t\t Mean Absolute Error:  476152\n",
      "Max leaf nodes: 1000  \t\t Mean Absolute Error:  478774\n",
      "Max leaf nodes: 2000  \t\t Mean Absolute Error:  479071\n",
      "Max leaf nodes: 3000  \t\t Mean Absolute Error:  479071\n"
     ]
    }
   ],
   "source": [
    "# compare MAE (Mean Absolut Error) with differing values of max_leaf_nodes\n",
    "for max_leaf_nodes in [5, 50, 100, 200, 1000, 2000, 3000]:\n",
    "    model = RandomForestRegressor(\n",
    "            max_leaf_nodes=max_leaf_nodes, random_state=0)\n",
    "    model.fit(trainFeatures, trainPredictionTarget.values.ravel())\n",
    "    preds_val = model.predict(valFeatures)\n",
    "    mae = mean_absolute_error(valPredictionTarget, preds_val)\n",
    "    print(\"Max leaf nodes: %d  \\t\\t Mean Absolute Error:  %d\" %\n",
    "              (max_leaf_nodes, mae))"
   ]
  },
  {
   "cell_type": "code",
   "execution_count": 387,
   "metadata": {},
   "outputs": [],
   "source": [
    "trainedModel = RandomForestRegressor(random_state=1, max_leaf_nodes=350)"
   ]
  },
  {
   "cell_type": "code",
   "execution_count": 388,
   "metadata": {},
   "outputs": [
    {
     "data": {
      "text/plain": [
       "RandomForestRegressor(max_leaf_nodes=350, random_state=1)"
      ]
     },
     "execution_count": 388,
     "metadata": {},
     "output_type": "execute_result"
    }
   ],
   "source": [
    "#trainedModel.fit(trainFeatures, trainPredictionTarget.values.ravel())\n",
    "trainedModel.fit(trainFeatures, trainPredictionTarget)"
   ]
  },
  {
   "cell_type": "code",
   "execution_count": 389,
   "metadata": {},
   "outputs": [
    {
     "name": "stdout",
     "output_type": "stream",
     "text": [
      "feature_importances [0.0390977  0.63449526 0.16548015 0.15885214 0.00207475]\n"
     ]
    },
    {
     "data": {
      "image/png": "[encoded data removed]",
      "text/plain": [
       "<Figure size 432x288 with 1 Axes>"
      ]
     },
     "metadata": {
      "needs_background": "light"
     },
     "output_type": "display_data"
    }
   ],
   "source": [
    "# Test which features affect the prediction target the most\n",
    "print(\"feature_importances\", trainedModel.feature_importances_)\n",
    "feat_importances = pd.Series(\n",
    "    trainedModel.feature_importances_, index=trainFeatures.columns)\n",
    "feat_importances.nlargest(5).plot(kind='barh')\n",
    "plt.show()"
   ]
  },
  {
   "cell_type": "code",
   "execution_count": 390,
   "metadata": {},
   "outputs": [
    {
     "data": {
      "image/png": "[encoded data removed]",
      "text/plain": [
       "<Figure size 432x288 with 2 Axes>"
      ]
     },
     "metadata": {
      "needs_background": "light"
     },
     "output_type": "display_data"
    }
   ],
   "source": [
    "# Test which features affect the prediction target the most\n",
    "corrmat = apData.corr()\n",
    "top_corr_features = corrmat.index\n",
    "# plot heat map\n",
    "g = sns.heatmap(apData[top_corr_features].corr(), vmin=0,\n",
    "                vmax=1, annot=True, cmap=\"RdYlGn\", square=True)\n",
    "plt.show()"
   ]
  },
  {
   "cell_type": "code",
   "execution_count": 391,
   "metadata": {},
   "outputs": [],
   "source": [
    "modelPredictions = trainedModel.predict(valFeatures)"
   ]
  },
  {
   "cell_type": "code",
   "execution_count": 392,
   "metadata": {},
   "outputs": [
    {
     "name": "stdout",
     "output_type": "stream",
     "text": [
      "Predictions for 978 apartments are off (MAE) by:\n",
      "473,082.00 SEK\n"
     ]
    }
   ],
   "source": [
    "mae_error = mean_absolute_error(valPredictionTarget, modelPredictions)\n",
    "mae_error = round(mae_error, 0)\n",
    "mae_error = '{:,.2f}'.format(mae_error)\n",
    "\n",
    "print(\"Predictions for\", len(modelPredictions), \"apartments are off (MAE) by:\")\n",
    "print(mae_error, \"SEK\")"
   ]
  },
  {
   "cell_type": "code",
   "execution_count": 393,
   "metadata": {},
   "outputs": [
    {
     "name": "stdout",
     "output_type": "stream",
     "text": [
      "Predictions for 978 apartments are off (MAPE) by:\n",
      "11.28 %\n"
     ]
    }
   ],
   "source": [
    "valPredictionTarget, predictions = np.array(\n",
    "    valPredictionTarget), np.array(modelPredictions)\n",
    "maeP = np.mean(\n",
    "    np.abs((valPredictionTarget - modelPredictions) / valPredictionTarget)) * 100\n",
    "maeP = round(maeP, 2)\n",
    "print(\"Predictions for\", len(modelPredictions), \"apartments are off (MAPE) by:\")\n",
    "print(maeP, \"%\")"
   ]
  },
  {
   "cell_type": "code",
   "execution_count": 394,
   "metadata": {},
   "outputs": [
    {
     "data": {
      "image/png": "[encoded data removed]",
      "text/plain": [
       "<Figure size 432x288 with 1 Axes>"
      ]
     },
     "metadata": {
      "needs_background": "light"
     },
     "output_type": "display_data"
    },
    {
     "name": "stdout",
     "output_type": "stream",
     "text": [
      "R2 (cross validation mean): 0.70 (+/- 0.10)\n"
     ]
    }
   ],
   "source": [
    "plt.title('Graph from plotScatterGraphMultiple()')\n",
    "plt.axis([100000, 8000000, 100000, 8000000])\n",
    "plt.scatter(valPredictionTarget, modelPredictions)\n",
    "\n",
    "z = np.polyfit(valPredictionTarget, modelPredictions, 1)\n",
    "p = np.poly1d(z)\n",
    "plt.plot(valPredictionTarget, p(valPredictionTarget), \"r--\")\n",
    "\n",
    "plt.show()\n",
    "\n",
    "# Cross validation using R2 as cv-score\n",
    "KFold = 10\n",
    "cv_score = cross_val_score(reg, valFeatures, valPredictionTarget, cv=KFold, scoring ='r2')\n",
    "print(\"R2 (cross validation mean): %0.2f (+/- %0.2f)\" % (cv_score.mean(), cv_score.std() * 2))"
   ]
  },
  {
   "cell_type": "code",
   "execution_count": null,
   "metadata": {},
   "outputs": [],
   "source": []
  }
 ],
 "metadata": {
  "kernelspec": {
   "display_name": "Python 3",
   "language": "python",
   "name": "python3"
  },
  "language_info": {
   "codemirror_mode": {
    "name": "ipython",
    "version": 3
   },
   "file_extension": ".py",
   "mimetype": "text/x-python",
   "name": "python",
   "nbconvert_exporter": "python",
   "pygments_lexer": "ipython3",
   "version": "3.8.5"
  }
 },
 "nbformat": 4,
 "nbformat_minor": 4
}
